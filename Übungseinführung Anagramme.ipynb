{
 "cells": [
  {
   "cell_type": "markdown",
   "id": "d61fdf91",
   "metadata": {},
   "source": [
    "Python-Einführung für die Übung 'Anagramme'\n",
    "="
   ]
  },
  {
   "cell_type": "markdown",
   "id": "92776ce5",
   "metadata": {},
   "source": [
    "## Zeichenketten"
   ]
  },
  {
   "cell_type": "markdown",
   "id": "71a0cc86",
   "metadata": {},
   "source": [
    "Zeichenketten werden mit Double-Quotes `\"` oder Single-Quotes `'` markiert"
   ]
  },
  {
   "cell_type": "code",
   "execution_count": 1,
   "id": "e4d80885",
   "metadata": {},
   "outputs": [
    {
     "data": {
      "text/plain": [
       "'Hans Muster'"
      ]
     },
     "execution_count": 1,
     "metadata": {},
     "output_type": "execute_result"
    }
   ],
   "source": [
    "\"Hans Muster\""
   ]
  },
  {
   "cell_type": "markdown",
   "id": "7282888a",
   "metadata": {},
   "source": [
    "Um diese einer Variablen zu zuweisen benutzt man einfach `=`."
   ]
  },
  {
   "cell_type": "code",
   "execution_count": 2,
   "id": "4bcc1cd4",
   "metadata": {},
   "outputs": [],
   "source": [
    "name = \"Hans Muster\""
   ]
  },
  {
   "cell_type": "markdown",
   "id": "a84cbf11",
   "metadata": {},
   "source": [
    "Die Länge einer Zeichenkette erhält man mit der Funktion `len`"
   ]
  },
  {
   "cell_type": "code",
   "execution_count": 3,
   "id": "0315b9d4",
   "metadata": {},
   "outputs": [
    {
     "data": {
      "text/plain": [
       "11"
      ]
     },
     "execution_count": 3,
     "metadata": {},
     "output_type": "execute_result"
    }
   ],
   "source": [
    "len(name)"
   ]
  },
  {
   "cell_type": "markdown",
   "id": "3534ab63",
   "metadata": {},
   "source": [
    "Um diese Länge später verwenden zu können, musst du sie aber auch wieder einer Variablen zuweisen."
   ]
  },
  {
   "cell_type": "code",
   "execution_count": 4,
   "id": "8db83807",
   "metadata": {},
   "outputs": [],
   "source": [
    "laenge_von_s = len(name)"
   ]
  },
  {
   "cell_type": "markdown",
   "id": "c4a34d4e",
   "metadata": {},
   "source": [
    "Eine etwas spezielle Zeichenkette ist die \"leere Zeichenkette\". Es ist aber einfach eine Zeichenkette ohne irgendwelche Zeichen. Entsprechend gibt auch ``len`` die Länge 0 zurück."
   ]
  },
  {
   "cell_type": "code",
   "execution_count": 5,
   "id": "d40174a1",
   "metadata": {},
   "outputs": [
    {
     "data": {
      "text/plain": [
       "0"
      ]
     },
     "execution_count": 5,
     "metadata": {},
     "output_type": "execute_result"
    }
   ],
   "source": [
    "leere_zeichen_kette = \"\"\n",
    "len(leere_zeichen_kette)"
   ]
  },
  {
   "cell_type": "markdown",
   "id": "f7213be5",
   "metadata": {},
   "source": [
    "Zeichenketten verhalten sich wie Listen und man kann elementweise auf einzelne Zeichen zugreifen mit dem `[]`-Operator. Der Index ist 0-basiert, das erste Zeichen ist also an Index 0."
   ]
  },
  {
   "cell_type": "code",
   "execution_count": 6,
   "id": "5a69070c",
   "metadata": {},
   "outputs": [
    {
     "data": {
      "text/plain": [
       "'M'"
      ]
     },
     "execution_count": 6,
     "metadata": {},
     "output_type": "execute_result"
    }
   ],
   "source": [
    "index = 4\n",
    "name[index+1]"
   ]
  },
  {
   "cell_type": "markdown",
   "id": "2203b1c6",
   "metadata": {},
   "source": [
    "Man kann Zeichenketten mit `+` zusammenhängen."
   ]
  },
  {
   "cell_type": "code",
   "execution_count": 7,
   "id": "f32fdc53",
   "metadata": {},
   "outputs": [
    {
     "data": {
      "text/plain": [
       "'Hallo Welt'"
      ]
     },
     "execution_count": 7,
     "metadata": {},
     "output_type": "execute_result"
    }
   ],
   "source": [
    "s1 = \"Hallo\"\n",
    "s2 = \"Welt\"\n",
    "s1 + \" \" + s2"
   ]
  },
  {
   "cell_type": "markdown",
   "id": "d9a42f41",
   "metadata": {},
   "source": [
    "Um Zahlen mit Text zu kombinieren, müssen die Zahlen zuerst in Text umgewandelt werden. Dies ist möglich mit der Funktion `str()`."
   ]
  },
  {
   "cell_type": "code",
   "execution_count": 8,
   "id": "0d3cdb2e",
   "metadata": {},
   "outputs": [
    {
     "data": {
      "text/plain": [
       "'3,blubber'"
      ]
     },
     "execution_count": 8,
     "metadata": {},
     "output_type": "execute_result"
    }
   ],
   "source": [
    "zahl = 3\n",
    "text = \"blubber\"\n",
    "str(zahl) + \",\" + text"
   ]
  },
  {
   "cell_type": "markdown",
   "id": "92a15e39",
   "metadata": {},
   "source": [
    "Eine andere Möglichkeit sind sogenannte Format- oder `f`-Strings. Dem ersten `\"` wird ein `f` voran gestellt und die Variablen, egal ob Zahlen oder Texte, können in `{}` eingefasst direkt in die Zeichenkette eingefügt werden:"
   ]
  },
  {
   "cell_type": "code",
   "execution_count": 9,
   "id": "83fd3eb6",
   "metadata": {},
   "outputs": [
    {
     "data": {
      "text/plain": [
       "'3, 4'"
      ]
     },
     "execution_count": 9,
     "metadata": {},
     "output_type": "execute_result"
    }
   ],
   "source": [
    "zahl1 = 3\n",
    "zahl2 = 4\n",
    "f\"{zahl1}, {zahl2}\""
   ]
  },
  {
   "cell_type": "markdown",
   "id": "a8f535e6",
   "metadata": {},
   "source": [
    "Man kann auch einzelne Zeichen mit `+` zusammensetzen."
   ]
  },
  {
   "cell_type": "code",
   "execution_count": 10,
   "id": "83c53536",
   "metadata": {},
   "outputs": [
    {
     "data": {
      "text/plain": [
       "'HM'"
      ]
     },
     "execution_count": 10,
     "metadata": {},
     "output_type": "execute_result"
    }
   ],
   "source": [
    "name[0]+name[5]"
   ]
  },
  {
   "cell_type": "markdown",
   "id": "47b1b1c1",
   "metadata": {},
   "source": [
    "Mit sogenannten \"Slices\" können Teile aus einer Zeichenkette herausgeholt werden. Die Grundform sieht so aus: `s[start:end]`. `start` bezeichnet den Index des ersten Zeichens, das im Slice enthalten sein soll, `end` bezeichnet das erste Zeichen danach, welches nicht mehr enthalten sein soll. Wenn `start` bis zum Anfang der Zeichenkette bzw. `end` bis zum Ende der Zeichenkette reichen soll, können sie auch weggelassen werden: `s[start:]` bzw. `s[:end]`."
   ]
  },
  {
   "cell_type": "code",
   "execution_count": 11,
   "id": "925f7f79",
   "metadata": {},
   "outputs": [
    {
     "data": {
      "text/plain": [
       "'Hans'"
      ]
     },
     "execution_count": 11,
     "metadata": {},
     "output_type": "execute_result"
    }
   ],
   "source": [
    "name[:4]"
   ]
  },
  {
   "cell_type": "markdown",
   "id": "fb23595c",
   "metadata": {},
   "source": [
    "Listen\n",
    "-------\n",
    "\n",
    "Um die Buchstaben einer Zeichenkette durcheinander zu würfeln, werden wir mit Listen arbeiten müssen. Listen, also auch die Reihenfolge der Elemente in einer Liste sind veränderlich, während Zeichenketten nicht verändert werden können. Deshalb macht es Sinn, einen kurzen Ausflug in Listen zu machen."
   ]
  },
  {
   "cell_type": "markdown",
   "id": "af0bf4b5",
   "metadata": {},
   "source": [
    "Listen kann man direkt erstellen mit den Zeichen `[` und `]`"
   ]
  },
  {
   "cell_type": "code",
   "execution_count": 12,
   "id": "b8321ada",
   "metadata": {},
   "outputs": [],
   "source": [
    "liste = [1, 2, 3, 4]"
   ]
  },
  {
   "cell_type": "markdown",
   "id": "dea1313c",
   "metadata": {},
   "source": [
    "und dann genau wie bei den Buchstaben von Zeichenketten auf einzelne Listeeinträge über den Index zugreifen."
   ]
  },
  {
   "cell_type": "code",
   "execution_count": 13,
   "id": "6a531b7d",
   "metadata": {},
   "outputs": [
    {
     "data": {
      "text/plain": [
       "3"
      ]
     },
     "execution_count": 13,
     "metadata": {},
     "output_type": "execute_result"
    }
   ],
   "source": [
    "liste[2]"
   ]
  },
  {
   "cell_type": "markdown",
   "id": "d30684d1",
   "metadata": {},
   "source": [
    "Zufall\n",
    "----\n",
    "\n",
    "Um Buchstaben durcheinander zu würfeln oder einfach eine zufällige Zahl zu generieren, können wir auf Python-Funktionen zurück greifen. Wir müssen diese nicht selbst schreiben."
   ]
  },
  {
   "cell_type": "markdown",
   "id": "a9381752",
   "metadata": {},
   "source": [
    "Für das nächste Beispiel brauchen wir eine Bibliothek, die wir mit `import` herein holen."
   ]
  },
  {
   "cell_type": "code",
   "execution_count": 14,
   "id": "1f054408",
   "metadata": {},
   "outputs": [],
   "source": [
    "import random"
   ]
  },
  {
   "cell_type": "markdown",
   "id": "4cfc4846",
   "metadata": {},
   "source": [
    "Mit der Funktion `randrange(start, end)` kann eine Zufallszahl innerhalb eines Bereichs erzeugt werden. Die beiden Parameter geben den Bereich an, `start` ist die erste Zahl des Bereichs und `end` die erste Zahl **ausserhalb** des Bereichs. Der folgende Aufruf erzeugt also Zahlen von 1 bis 3."
   ]
  },
  {
   "cell_type": "code",
   "execution_count": 15,
   "id": "501c51de",
   "metadata": {},
   "outputs": [
    {
     "data": {
      "text/plain": [
       "1"
      ]
     },
     "execution_count": 15,
     "metadata": {},
     "output_type": "execute_result"
    }
   ],
   "source": [
    "random.randrange(1, 4)"
   ]
  },
  {
   "cell_type": "markdown",
   "id": "53cfbccd",
   "metadata": {},
   "source": [
    "Mit der Funktion `shuffle` aus `random` kann eine Liste \"durchgeschüttelt\" werden. Die Liste selbst wird direkt verändert und es wird kein Rückgabewert gegeben."
   ]
  },
  {
   "cell_type": "code",
   "execution_count": 16,
   "id": "bb87e5b1",
   "metadata": {},
   "outputs": [
    {
     "name": "stdout",
     "output_type": "stream",
     "text": [
      "[4, 2, 1, 3]\n"
     ]
    }
   ],
   "source": [
    "random.shuffle(liste)\n",
    "print(liste)"
   ]
  },
  {
   "cell_type": "markdown",
   "id": "e1ab0edf",
   "metadata": {},
   "source": [
    "Die Funktion `random.shuffle()` greift im Hintergrund auf die einzelnen Elemente der Liste zu und verändert diese. Du kannst Dir diesen Zugriff vereinfacht in etwa folgendermassen vorstellen:"
   ]
  },
  {
   "cell_type": "code",
   "execution_count": 17,
   "id": "3a79b0e5",
   "metadata": {},
   "outputs": [
    {
     "data": {
      "text/plain": [
       "[234, 2, 1, 3]"
      ]
     },
     "execution_count": 17,
     "metadata": {},
     "output_type": "execute_result"
    }
   ],
   "source": [
    "liste[0] = 234\n",
    "liste"
   ]
  },
  {
   "cell_type": "markdown",
   "id": "3ac5b981",
   "metadata": {},
   "source": [
    "Würdest Du versuchen das gleiche mit einer Zeichenkette zu machen, würde Python dies verweigern. Aus diesem Grund funktioniert auch `random.shuffle()` nicht direkt auf einer Zeichenkette:"
   ]
  },
  {
   "cell_type": "code",
   "execution_count": 18,
   "id": "facdc7a4",
   "metadata": {},
   "outputs": [
    {
     "name": "stdout",
     "output_type": "stream",
     "text": [
      "Hans Muster\n"
     ]
    },
    {
     "ename": "TypeError",
     "evalue": "'str' object does not support item assignment",
     "output_type": "error",
     "traceback": [
      "\u001b[31m---------------------------------------------------------------------------\u001b[39m",
      "\u001b[31mTypeError\u001b[39m                                 Traceback (most recent call last)",
      "\u001b[36mCell\u001b[39m\u001b[36m \u001b[39m\u001b[32mIn[18]\u001b[39m\u001b[32m, line 4\u001b[39m\n\u001b[32m      1\u001b[39m \u001b[38;5;28mprint\u001b[39m(name)\n\u001b[32m      2\u001b[39m \u001b[38;5;66;03m# folgende Zeile geht leider nicht:\u001b[39;00m\n\u001b[32m      3\u001b[39m \u001b[38;5;66;03m# random.shuffle(s)\u001b[39;00m\n\u001b[32m----> \u001b[39m\u001b[32m4\u001b[39m \u001b[43mname\u001b[49m\u001b[43m[\u001b[49m\u001b[32;43m0\u001b[39;49m\u001b[43m]\u001b[49m = \u001b[33m\"\u001b[39m\u001b[33mA\u001b[39m\u001b[33m\"\u001b[39m\n",
      "\u001b[31mTypeError\u001b[39m: 'str' object does not support item assignment"
     ]
    }
   ],
   "source": [
    "print(name)\n",
    "# folgende Zeile geht leider nicht:\n",
    "# random.shuffle(s)\n",
    "name[0] = \"A\""
   ]
  },
  {
   "cell_type": "markdown",
   "id": "1a39c2b2",
   "metadata": {},
   "source": [
    "Mit der Funktion `list()` kann aber eine Zeichenkette in eine Liste von Zeichen verwandelt werden."
   ]
  },
  {
   "cell_type": "code",
   "execution_count": 20,
   "id": "5ebd72a2",
   "metadata": {},
   "outputs": [
    {
     "name": "stdout",
     "output_type": "stream",
     "text": [
      "['H', 'a', 'n', 's', ' ', 'M', 'u', 's', 't', 'e', 'r']\n"
     ]
    }
   ],
   "source": [
    "zl = list(name)\n",
    "print(zl)"
   ]
  },
  {
   "cell_type": "markdown",
   "id": "02d1a310",
   "metadata": {},
   "source": [
    "Auf dieser könnten wir die `random.shuffle()`-Funktion endlich ausführen.\n",
    "\n",
    "Die Umkehrung davon geht mit der Konstruktion ``\"\".join(liste)``."
   ]
  },
  {
   "cell_type": "code",
   "execution_count": 21,
   "id": "86c23cd1",
   "metadata": {
    "scrolled": true
   },
   "outputs": [
    {
     "name": "stdout",
     "output_type": "stream",
     "text": [
      "Hans Muster\n"
     ]
    }
   ],
   "source": [
    "wieder_als_string = \"\".join(zl)\n",
    "print(wieder_als_string)"
   ]
  },
  {
   "cell_type": "code",
   "execution_count": 22,
   "id": "a0388029",
   "metadata": {},
   "outputs": [
    {
     "data": {
      "text/plain": [
       "'M euHsnrtsa'"
      ]
     },
     "execution_count": 22,
     "metadata": {},
     "output_type": "execute_result"
    }
   ],
   "source": [
    "random.shuffle(zl)\n",
    "zl\n",
    "\"\".join(zl)"
   ]
  },
  {
   "cell_type": "markdown",
   "id": "e02392dd",
   "metadata": {},
   "source": [
    "Mit `replace()` kann eine neue Zeichenkette erzeugt werden, in welcher bestimmte Buchstaben oder ganze Zeichenketten durch andere ersetzt wurden. Im Gegensatz zur ``shuffle``-Funktion musst du das Resultat der ``replace``-Funktion wieder irgendwo speichern, sonst geht die Ersetzung verloren."
   ]
  },
  {
   "cell_type": "code",
   "execution_count": 23,
   "id": "4833d50e",
   "metadata": {},
   "outputs": [
    {
     "name": "stdout",
     "output_type": "stream",
     "text": [
      "Hans-Muster\n"
     ]
    }
   ],
   "source": [
    "new_s = name.replace(\" \", \"-\")\n",
    "print(new_s)"
   ]
  },
  {
   "cell_type": "markdown",
   "id": "b0f98c9e",
   "metadata": {},
   "source": [
    "Mit der `count()`-Funktion kann man zählen, wie oft ein Zeichen in einer Zeichenkette auftritt."
   ]
  },
  {
   "cell_type": "code",
   "execution_count": 24,
   "id": "243fd701",
   "metadata": {},
   "outputs": [
    {
     "data": {
      "text/plain": [
       "2"
      ]
     },
     "execution_count": 24,
     "metadata": {},
     "output_type": "execute_result"
    }
   ],
   "source": [
    "name.count(\"s\")"
   ]
  },
  {
   "cell_type": "markdown",
   "id": "bcd55ff9",
   "metadata": {},
   "source": [
    "Mit der Funktion ``lower()`` kannst Du alle Buchstaben einer Zeichenkette in Kleinbuchstaben verwandeln. Wie bei ``replace()`` erzeugt auch ``lower()`` eine neue Kopie, die du einer Variable zuweisen musst. Mit der Funktion ``capitalize()`` kannst du in einer Zeichenkette den ersten Buchstaben in einen Grossbuchstaben und alle folgenden in Kleinbuchstaben verwandeln. Mit der Funktion ``title()`` kannst du sogar jeden ersten Buchstaben eines neuen Wortes in Grossbuchstaben verwandeln."
   ]
  },
  {
   "cell_type": "code",
   "execution_count": 25,
   "id": "1e83ab80",
   "metadata": {},
   "outputs": [
    {
     "name": "stdout",
     "output_type": "stream",
     "text": [
      "hans muster\n",
      "Hans muster\n",
      "Hans Muster\n"
     ]
    }
   ],
   "source": [
    "alles_klein_buchstaben = name.lower()\n",
    "capitalized = alles_klein_buchstaben.capitalize()\n",
    "titelized = alles_klein_buchstaben.title()\n",
    "print(alles_klein_buchstaben)\n",
    "print(capitalized)\n",
    "print(titelized)"
   ]
  }
 ],
 "metadata": {
  "kernelspec": {
   "display_name": ".venv",
   "language": "python",
   "name": "python3"
  },
  "language_info": {
   "codemirror_mode": {
    "name": "ipython",
    "version": 3
   },
   "file_extension": ".py",
   "mimetype": "text/x-python",
   "name": "python",
   "nbconvert_exporter": "python",
   "pygments_lexer": "ipython3",
   "version": "3.12.3"
  }
 },
 "nbformat": 4,
 "nbformat_minor": 5
}
