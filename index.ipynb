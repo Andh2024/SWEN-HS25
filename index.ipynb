{
 "cells": [
  {
   "cell_type": "code",
   "execution_count": 2,
   "id": "097dabdd",
   "metadata": {},
   "outputs": [
    {
     "name": "stdout",
     "output_type": "stream",
     "text": [
      "Die Zahl ist grösser als 20\n"
     ]
    }
   ],
   "source": [
    "a = 50\n",
    "\n",
    "if a < 20:\n",
    "    print('Die Zahl ist kleiner als 20')\n",
    "else:\n",
    "    print('Die Zahl ist grösser als 20')"
   ]
  },
  {
   "cell_type": "code",
   "execution_count": 3,
   "id": "464329a4",
   "metadata": {},
   "outputs": [
    {
     "name": "stdout",
     "output_type": "stream",
     "text": [
      "Die Zahl ist grösser als 30\n"
     ]
    }
   ],
   "source": [
    "x = 100\n",
    "\n",
    "if a < 20:\n",
    "    print('Die Zahl ist kleiner als 20')\n",
    "elif a > 20 and a < 30:\n",
    "    print('Die Zahl ist grösser')\n",
    "\n",
    "else:\n",
    "    print('Die Zahl ist grösser als 30')"
   ]
  },
  {
   "cell_type": "code",
   "execution_count": 5,
   "id": "761050e3",
   "metadata": {},
   "outputs": [
    {
     "name": "stdout",
     "output_type": "stream",
     "text": [
      "Andi\n",
      "Simone\n",
      "Denise\n"
     ]
    }
   ],
   "source": [
    "liste = [\"Andi\", \"Simone\", \"Denise\"]\n",
    "\n",
    "for i in liste:\n",
    "    print(i)"
   ]
  },
  {
   "cell_type": "code",
   "execution_count": 9,
   "id": "34d3875c",
   "metadata": {},
   "outputs": [],
   "source": [
    "counter = 10\n",
    "\n",
    "while counter < 10:\n",
    "    print(counter + \"Hallo\")\n",
    "    counter = counter + 1"
   ]
  },
  {
   "cell_type": "code",
   "execution_count": 10,
   "id": "f1e30dd4",
   "metadata": {},
   "outputs": [
    {
     "name": "stdout",
     "output_type": "stream",
     "text": [
      "0\n",
      "1\n",
      "2\n",
      "3\n",
      "4\n",
      "5\n",
      "6\n",
      "7\n",
      "8\n",
      "9\n"
     ]
    }
   ],
   "source": [
    "for index in range(0, 10):\n",
    "    print(index)"
   ]
  },
  {
   "cell_type": "code",
   "execution_count": 11,
   "id": "7d25379b",
   "metadata": {},
   "outputs": [
    {
     "name": "stdout",
     "output_type": "stream",
     "text": [
      "1\n",
      "2\n",
      "3\n",
      "4\n",
      "6\n",
      "7\n",
      "8\n",
      "9\n"
     ]
    }
   ],
   "source": [
    "for index in range(1, 10):\n",
    "    if index == 5:\n",
    "        continue\n",
    "    print(index)"
   ]
  },
  {
   "cell_type": "code",
   "execution_count": null,
   "id": "8841d7e1",
   "metadata": {},
   "outputs": [
    {
     "name": "stdout",
     "output_type": "stream",
     "text": [
      "Das heute umfasst eine Fläche von 10 m2\n"
     ]
    }
   ],
   "source": [
    "# type annotationen\n",
    "\n",
    "def fläche(breite_cm: float, höhe_cm: float):\n",
    "    return breite_cm * höhe_cm\n",
    "\n",
    "hausfläche = fläche(2, 5)\n",
    "\n",
    "print(\"Das heute umfasst eine Fläche von\",hausfläche,\"m2\")\n",
    "\n",
    "\n",
    "# test"
   ]
  }
 ],
 "metadata": {
  "kernelspec": {
   "display_name": "Python 3",
   "language": "python",
   "name": "python3"
  },
  "language_info": {
   "codemirror_mode": {
    "name": "ipython",
    "version": 3
   },
   "file_extension": ".py",
   "mimetype": "text/x-python",
   "name": "python",
   "nbconvert_exporter": "python",
   "pygments_lexer": "ipython3",
   "version": "3.13.7"
  }
 },
 "nbformat": 4,
 "nbformat_minor": 5
}
